{
 "cells": [
  {
   "cell_type": "markdown",
   "metadata": {},
   "source": [
    "# Dataset Upload"
   ]
  },
  {
   "cell_type": "markdown",
   "metadata": {},
   "source": [
    "In addition to creating and editing Datasets in the LangSmith UI, you can also create and edit datasets with the LangSmith SDK."
   ]
  },
  {
   "cell_type": "markdown",
   "metadata": {},
   "source": [
    "Let's go ahead an upload a list of examples that we have from our RAG application to LangSmith as a new dataset."
   ]
  },
  {
   "cell_type": "code",
   "execution_count": 1,
   "metadata": {},
   "outputs": [
    {
     "data": {
      "text/plain": [
       "False"
      ]
     },
     "execution_count": 1,
     "metadata": {},
     "output_type": "execute_result"
    }
   ],
   "source": [
    "# Or you can use a .env file\n",
    "from dotenv import load_dotenv\n",
    "load_dotenv(dotenv_path=\"../../.env\", override=True)"
   ]
  },
  {
   "cell_type": "code",
   "execution_count": 5,
   "metadata": {},
   "outputs": [
    {
     "data": {
      "text/plain": [
       "{'example_ids': ['e2084c66-8c3a-494f-b853-561a48f20f1d',\n",
       "  '192ed178-0707-48b9-9845-3fe2f53d77ac',\n",
       "  '3c28f838-be16-4a4f-b70c-e311c6429589',\n",
       "  '0664f2fa-6d2a-483e-a1f0-82de1dbf5bdf',\n",
       "  'f0df5aaf-49a0-437a-87e4-7d5ab49f9f25',\n",
       "  'b3aeb7ae-0ee3-4fd8-9634-5436e7beaaa3',\n",
       "  '651bf774-0e9f-4179-91fc-2abdef7278b5',\n",
       "  '368ed475-0a2b-41aa-b4cf-4b1043694d5c',\n",
       "  '5d6ca0bf-20a9-471e-88b3-05b2f0895852',\n",
       "  '72aabf56-7dc9-45b1-883c-630f82aad67e'],\n",
       " 'count': 10}"
      ]
     },
     "execution_count": 5,
     "metadata": {},
     "output_type": "execute_result"
    }
   ],
   "source": [
    "from langsmith import Client\n",
    "\n",
    "example_inputs = [\n",
    "(\"How do I set up tracing to LangSmith if I'm using LangChain?\", \"To set up tracing to LangSmith while using LangChain, you need to set the environment variable `LANGSMITH_TRACING` to 'true'. Additionally, you must set the `LANGSMITH_API_KEY` environment variable to your API key. By default, traces will be logged to a project named \\\"default.\\\"\"),\n",
    "(\"How can I trace with the @traceable decorator?\", \"To trace with the @traceable decorator in Python, simply decorate any function you want to log traces for by adding `@traceable` above the function definition. Ensure that the LANGSMITH_TRACING environment variable is set to 'true' to enable tracing, and also set the LANGSMITH_API_KEY environment variable with your API key. By default, traces will be logged to a project named \\\"default,\\\" but you can configure it to log to a different project if needed.\"),\n",
    "(\"How do I pass metadata in with @traceable?\", \"You can pass metadata with the @traceable decorator by specifying arbitrary key-value pairs as arguments. This allows you to associate additional information, such as the execution environment or user details, with your traces. For more detailed instructions, refer to the LangSmith documentation on adding metadata and tags.\"),\n",
    "(\"What is LangSmith used for in three sentences?\", \"LangSmith is a platform designed for the development, monitoring, and testing of LLM applications. It enables users to collect and analyze unstructured data, debug issues, and create datasets for testing and evaluation. The tool supports various workflows throughout the application development lifecycle, enhancing the overall performance and reliability of LLM applications.\"),\n",
    "(\"What testing capabilities does LangSmith have?\", \"LangSmith offers capabilities for creating datasets of inputs and reference outputs to run tests on LLM applications, supporting a test-driven approach. It allows for bulk uploads of test cases, on-the-fly creation, and exporting from application traces. Additionally, LangSmith facilitates custom evaluations to score test results, enhancing the testing process.\"),\n",
    "(\"Does LangSmith support online evaluation?\", \"Yes, LangSmith supports online evaluation as a feature. It allows you to configure a sample of runs from production to be evaluated, providing feedback on those runs. You can use either custom code or an LLM as a judge for the evaluations.\"),\n",
    "(\"Does LangSmith support offline evaluation?\", \"Yes, LangSmith supports offline evaluation through its evaluation how-to guides and features for managing datasets. Users can manage datasets for offline evaluations and run various types of evaluations, including unit testing and auto-evaluation. This allows for comprehensive testing and improvement of LLM applications.\"),\n",
    "(\"Can LangSmith be used for finetuning and model training?\", \"Yes, LangSmith can be used for fine-tuning and model training. It allows you to capture run traces from your deployment, query and filter this data, and convert it into a format suitable for fine-tuning models. Additionally, you can create training datasets to keep track of the data used for model training.\"),\n",
    "(\"Can LangSmith be used to evaluate agents?\", \"Yes, LangSmith can be used to evaluate agents. It provides various evaluation strategies, including assessing the agent's final response, evaluating individual steps, and analyzing the trajectory of tool calls. These methods help ensure the effectiveness of LLM applications.\"),\n",
    "(\"How do I create user feedback with the LangSmith sdk?\", \"To create user feedback with the LangSmith SDK, you first need to run your application and obtain the `run_id`. Then, you can use the `create_feedback` method, providing the `run_id`, a feedback key, a score, and an optional comment. For example, in Python, it would look like this: `client.create_feedback(run_id, key=\\\"feedback-key\\\", score=1.0, comment=\\\"comment\\\")`.\"),\n",
    "]\n",
    "\n",
    "client = Client()\n",
    "# TODO: Fill in dataset id\n",
    "dataset_id = \"cb90b49f-cd3c-41ba-bc84-e4e3a60df060\"\n",
    "\n",
    "# Prepare inputs and outputs for bulk creation\n",
    "inputs = [{\"question\": input_prompt} for input_prompt, _ in example_inputs]\n",
    "outputs = [{\"output\": output_answer} for _, output_answer in example_inputs]\n",
    "\n",
    "client.create_examples(\n",
    "  inputs=inputs,\n",
    "  outputs=outputs,\n",
    "  dataset_id=dataset_id,\n",
    ")"
   ]
  },
  {
   "cell_type": "markdown",
   "metadata": {},
   "source": [
    "## Submitting another Trace"
   ]
  },
  {
   "cell_type": "markdown",
   "metadata": {},
   "source": [
    "I've moved our RAG application definition to `app.py` so we can quickly import it."
   ]
  },
  {
   "cell_type": "code",
   "execution_count": 6,
   "metadata": {},
   "outputs": [
    {
     "name": "stderr",
     "output_type": "stream",
     "text": [
      "USER_AGENT environment variable not set, consider setting it to identify your requests.\n"
     ]
    }
   ],
   "source": [
    "from app import langsmith_rag"
   ]
  },
  {
   "cell_type": "markdown",
   "metadata": {},
   "source": [
    "Let's ask another question to create a new trace!"
   ]
  },
  {
   "cell_type": "code",
   "execution_count": 7,
   "metadata": {},
   "outputs": [
    {
     "data": {
      "text/plain": [
       "\"To set up tracing to LangSmith with LangChain, ensure that your LangSmith instance is running and accessible. You should pass the hostname to the LangChain tracer or LangSmith SDK when submitting traces. For enhanced security, it's recommended to configure SSL, authentication methods, and connect LangSmith to secured database instances.\""
      ]
     },
     "execution_count": 7,
     "metadata": {},
     "output_type": "execute_result"
    }
   ],
   "source": [
    "question = \"How do I set up tracing to LangSmith if I'm using LangChain?\"\n",
    "langsmith_rag(question)"
   ]
  },
  {
   "cell_type": "code",
   "execution_count": 9,
   "metadata": {},
   "outputs": [
    {
     "name": "stdout",
     "output_type": "stream",
     "text": [
      "Created dataset: product-faq-1a63f517 with 5 examples\n"
     ]
    }
   ],
   "source": [
    "from langsmith import Client\n",
    "import uuid\n",
    "\n",
    "client = Client()\n",
    "\n",
    "# Create a new dataset for product questions\n",
    "dataset_name = f\"product-faq-{uuid.uuid4().hex[:8]}\"\n",
    "dataset = client.create_dataset(dataset_name, description=\"Common product questions and answers\")\n",
    "\n",
    "# Sample product Q&A pairs\n",
    "product_questions = [\n",
    "    (\"How do I reset my password?\", \"Go to Settings > Security > Reset Password and follow the instructions.\"),\n",
    "    (\"What's your return policy?\", \"We offer 30-day returns for unused items in original packaging.\"),\n",
    "    (\"Do you ship internationally?\", \"Yes, we ship to over 50 countries with varying delivery times.\"),\n",
    "    (\"How can I track my order?\", \"Use your order number in the Track Order section of our website.\"),\n",
    "    (\"What payment methods do you accept?\", \"We accept credit cards, PayPal, and Apple/Google Pay.\")\n",
    "]\n",
    "\n",
    "# Prepare and upload examples\n",
    "inputs = [{\"question\": question} for question, _ in product_questions]\n",
    "outputs = [{\"answer\": answer} for _, answer in product_questions]\n",
    "\n",
    "result = client.create_examples(\n",
    "    inputs=inputs,\n",
    "    outputs=outputs,\n",
    "    dataset_id=dataset.id\n",
    ")\n",
    "\n",
    "print(f\"Created dataset: {dataset_name} with {len(product_questions)} examples\")"
   ]
  },
  {
   "cell_type": "code",
   "execution_count": 10,
   "metadata": {},
   "outputs": [
    {
     "name": "stdout",
     "output_type": "stream",
     "text": [
      "Uploaded 5 customer feedback examples\n"
     ]
    }
   ],
   "source": [
    "from langsmith import Client\n",
    "\n",
    "client = Client()\n",
    "\n",
    "# Create dataset for sentiment analysis\n",
    "dataset = client.create_dataset(\n",
    "    \"customer-feedback-sentiment\",\n",
    "    description=\"Customer reviews for sentiment analysis training\"\n",
    ")\n",
    "\n",
    "# Sample customer feedback with sentiment labels\n",
    "feedback_data = [\n",
    "    (\"The product arrived quickly and works perfectly!\", \"positive\"),\n",
    "    (\"Terrible customer service, will not buy again.\", \"negative\"),\n",
    "    (\"It's okay but could be better for the price.\", \"neutral\"),\n",
    "    (\"Amazing quality and fast shipping!\", \"positive\"),\n",
    "    (\"Broken on arrival and no response from support.\", \"negative\")\n",
    "]\n",
    "\n",
    "# Upload with different input/output structure\n",
    "inputs = [{\"review\": review} for review, _ in feedback_data]\n",
    "outputs = [{\"sentiment\": sentiment} for _, sentiment in feedback_data]\n",
    "\n",
    "client.create_examples(\n",
    "    inputs=inputs,\n",
    "    outputs=outputs,\n",
    "    dataset_id=dataset.id\n",
    ")\n",
    "\n",
    "print(f\"Uploaded {len(feedback_data)} customer feedback examples\")"
   ]
  }
 ],
 "metadata": {
  "kernelspec": {
   "display_name": ".venv",
   "language": "python",
   "name": "python3"
  },
  "language_info": {
   "codemirror_mode": {
    "name": "ipython",
    "version": 3
   },
   "file_extension": ".py",
   "mimetype": "text/x-python",
   "name": "python",
   "nbconvert_exporter": "python",
   "pygments_lexer": "ipython3",
   "version": "3.13.5"
  }
 },
 "nbformat": 4,
 "nbformat_minor": 4
}
